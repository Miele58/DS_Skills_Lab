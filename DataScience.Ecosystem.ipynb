{
 "cells": [
  {
   "cell_type": "markdown",
   "id": "eac28df5-a440-4ef1-8603-9c690172037e",
   "metadata": {},
   "source": [
    "## Author\n",
    "Christine Keeth"
   ]
  },
  {
   "cell_type": "markdown",
   "id": "ea4f1dc2-d45e-4e6c-8750-4fe0f0959b27",
   "metadata": {},
   "source": [
    "# Data Science Tools and EcoSystem"
   ]
  },
  {
   "cell_type": "markdown",
   "id": "cba1b5a4-e1e0-43de-ac4a-c16f9987171d",
   "metadata": {},
   "source": [
    "In this notebook, the Data Science Tools and Ecosystem are summmarized."
   ]
  },
  {
   "cell_type": "markdown",
   "id": "4f0d183c-9566-497a-a619-9ed104e1c5c7",
   "metadata": {},
   "source": [
    "**Objectives:**\n",
    "* Create different headings in Jupyter Notebook using Python\n",
    "* List of popular data science libraries\n",
    "* Create a table in Jupyter Notebook using Python\n",
    "* List of open source data science IDEs for developers"
   ]
  },
  {
   "cell_type": "markdown",
   "id": "21a205f0-cfb7-41bc-b88e-72a66f35b605",
   "metadata": {
    "jp-MarkdownHeadingCollapsed": true
   },
   "source": [
    "### Some of the popular languages that Data Scientists use are:\n",
    "1. JavaScript\n",
    "2. Python\n",
    "3. SQL"
   ]
  },
  {
   "cell_type": "markdown",
   "id": "c04bf201-6548-4940-aca9-2ea237869e03",
   "metadata": {},
   "source": [
    "## Some of the commonly used libraries used by Data Scientists include:\n",
    "1. Pandas\n",
    "2. Matplotlib\n",
    "3. Tensorflow"
   ]
  },
  {
   "cell_type": "markdown",
   "id": "20f6fdf5-b234-417f-b46a-1f05a36ed353",
   "metadata": {},
   "source": [
    "| Data Science Tools |\n",
    "|--------------------|\n",
    "|    JupyterLab      |\n",
    "|     RStudio        |\n",
    "|   Watson Studio    |"
   ]
  },
  {
   "cell_type": "markdown",
   "id": "e2f8e8af-072f-493d-a040-d84e9741592d",
   "metadata": {},
   "source": [
    "### Below are a few examples of evaluating arithmetic expressions in Python."
   ]
  },
  {
   "cell_type": "code",
   "execution_count": 2,
   "id": "0ffc2197-0ea0-4d8e-9087-fb868f834b13",
   "metadata": {},
   "outputs": [
    {
     "data": {
      "text/plain": [
       "17"
      ]
     },
     "execution_count": 2,
     "metadata": {},
     "output_type": "execute_result"
    }
   ],
   "source": [
    "# This is a simple arithmetic expression to multiply then add integers.\n",
    "(3*4)+5"
   ]
  },
  {
   "cell_type": "code",
   "execution_count": 3,
   "id": "cd7ecbd6-11ff-4583-af88-79140e6266d2",
   "metadata": {},
   "outputs": [
    {
     "data": {
      "text/plain": [
       "3.3333333333333335"
      ]
     },
     "execution_count": 3,
     "metadata": {},
     "output_type": "execute_result"
    }
   ],
   "source": [
    "# This will convert 200 minutes to hours dividing by 60 minutes.\n",
    "200/60"
   ]
  },
  {
   "cell_type": "markdown",
   "id": "e3a40951-9448-4968-905e-a95929b36a87",
   "metadata": {},
   "source": [
    "## Author\n",
    "Christine Keeth"
   ]
  }
 ],
 "metadata": {
  "kernelspec": {
   "display_name": "Python [conda env:CJLearn]",
   "language": "python",
   "name": "conda-env-CJLearn-py"
  },
  "language_info": {
   "codemirror_mode": {
    "name": "ipython",
    "version": 3
   },
   "file_extension": ".py",
   "mimetype": "text/x-python",
   "name": "python",
   "nbconvert_exporter": "python",
   "pygments_lexer": "ipython3",
   "version": "3.9.23"
  }
 },
 "nbformat": 4,
 "nbformat_minor": 5
}
